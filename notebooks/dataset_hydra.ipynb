{
 "cells": [
  {
   "cell_type": "code",
   "execution_count": 2,
   "metadata": {},
   "outputs": [
    {
     "name": "stdout",
     "output_type": "stream",
     "text": [
      "/home/tmarwah/projects/3DMamba/notebooks\n"
     ]
    }
   ],
   "source": [
    "import torch\n",
    "import matplotlib.pyplot as plt\n",
    "import hydra\n",
    "from hydra.core.global_hydra import GlobalHydra\n",
    "from omegaconf import DictConfig, OmegaConf\n",
    "!cd /home/tmarwah/projects/3DMamba/\n",
    "!pwd\n",
    "import os\n",
    "os.chdir('/home/tmarwah/projects/3DMamba/')"
   ]
  },
  {
   "cell_type": "code",
   "execution_count": 3,
   "metadata": {},
   "outputs": [],
   "source": [
    "# This is a workaround for reinitializing Hydra in a Jupyter notebook.\n",
    "GlobalHydra.instance().clear()\n",
    "\n",
    "def get_dataset(config_path=\"../configs/dataset\", dataset_name=\"nuscenes_lidar_v1.0\", **kwargs):\n",
    "    # Initialize Hydra once per notebook session.\n",
    "    if not GlobalHydra.instance().is_initialized():\n",
    "        hydra.initialize(config_path=config_path, version_base=None)\n",
    "    \n",
    "    cfg = hydra.compose(config_name=dataset_name)\n",
    "    # print(OmegaConf.to_yaml(cfg))\n",
    "    # instantiate the dataset\n",
    "    dataset = hydra.utils.instantiate(cfg.params, **kwargs)\n",
    "    return dataset"
   ]
  },
  {
   "cell_type": "code",
   "execution_count": 12,
   "metadata": {},
   "outputs": [
    {
     "name": "stdout",
     "output_type": "stream",
     "text": [
      "======\n",
      "Loading NuScenes tables for version v1.0-trainval...\n",
      "Loading nuScenes-lidarseg...\n",
      "32 category,\n",
      "8 attribute,\n",
      "4 visibility,\n",
      "64386 instance,\n",
      "12 sensor,\n",
      "10200 calibrated_sensor,\n",
      "2631083 ego_pose,\n",
      "68 log,\n",
      "850 scene,\n",
      "34149 sample,\n",
      "2631083 sample_data,\n",
      "1166187 sample_annotation,\n",
      "4 map,\n",
      "34149 lidarseg,\n",
      "Done loading in 26.115 seconds.\n",
      "======\n",
      "Reverse indexing ...\n",
      "Done reverse indexing in 6.3 seconds.\n",
      "======\n"
     ]
    }
   ],
   "source": [
    "dataset = get_dataset(if_test=True)"
   ]
  },
  {
   "cell_type": "code",
   "execution_count": 13,
   "metadata": {},
   "outputs": [],
   "source": [
    "from collections import Counter\n",
    "c = Counter()\n",
    "for x,y in dataset:\n",
    "    c.update(y.flatten().tolist())"
   ]
  },
  {
   "cell_type": "code",
   "execution_count": 14,
   "metadata": {},
   "outputs": [
    {
     "data": {
      "text/plain": [
       "<BarContainer object of 20 artists>"
      ]
     },
     "execution_count": 14,
     "metadata": {},
     "output_type": "execute_result"
    },
    {
     "data": {
      "image/png": "[encoded data removed]",
      "text/plain": [
       "<Figure size 640x480 with 1 Axes>"
      ]
     },
     "metadata": {},
     "output_type": "display_data"
    }
   ],
   "source": [
    "# plot histogram\n",
    "plt.bar(c.keys(), c.values())"
   ]
  },
  {
   "cell_type": "code",
   "execution_count": 15,
   "metadata": {},
   "outputs": [
    {
     "data": {
      "text/plain": [
       "Counter({24: 972083,\n",
       "         27: 412158,\n",
       "         4: 2389,\n",
       "         28: 572244,\n",
       "         31: 829716,\n",
       "         26: 177986,\n",
       "         30: 288338,\n",
       "         23: 135580,\n",
       "         2: 2365,\n",
       "         17: 46497,\n",
       "         0: 1382,\n",
       "         25: 9736,\n",
       "         12: 528,\n",
       "         32: 9600,\n",
       "         11: 1813,\n",
       "         18: 3954,\n",
       "         9: 12502,\n",
       "         10: 307,\n",
       "         21: 2179,\n",
       "         14: 243})"
      ]
     },
     "execution_count": 15,
     "metadata": {},
     "output_type": "execute_result"
    }
   ],
   "source": [
    "c"
   ]
  },
  {
   "cell_type": "code",
   "execution_count": 16,
   "metadata": {},
   "outputs": [
    {
     "data": {
      "text/plain": [
       "3481600"
      ]
     },
     "execution_count": 16,
     "metadata": {},
     "output_type": "execute_result"
    }
   ],
   "source": [
    "sum(c.values())"
   ]
  },
  {
   "cell_type": "code",
   "execution_count": null,
   "metadata": {},
   "outputs": [],
   "source": []
  }
 ],
 "metadata": {
  "kernelspec": {
   "display_name": "3DMamba",
   "language": "python",
   "name": "python3"
  },
  "language_info": {
   "codemirror_mode": {
    "name": "ipython",
    "version": 3
   },
   "file_extension": ".py",
   "mimetype": "text/x-python",
   "name": "python",
   "nbconvert_exporter": "python",
   "pygments_lexer": "ipython3",
   "version": "3.8.18"
  }
 },
 "nbformat": 4,
 "nbformat_minor": 2
}
